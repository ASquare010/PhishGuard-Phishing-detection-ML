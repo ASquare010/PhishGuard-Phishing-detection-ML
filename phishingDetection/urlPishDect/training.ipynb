{
 "cells": [
  {
   "cell_type": "code",
   "execution_count": 15,
   "metadata": {},
   "outputs": [],
   "source": [
    "from sklearn.ensemble import RandomForestClassifier\n",
    "from sklearn.svm import SVC\n",
    "from sklearn.neighbors import KNeighborsClassifier\n",
    "from sklearn.linear_model import LogisticRegression\n",
    "from sklearn.neural_network import MLPClassifier\n",
    "from sklearn.ensemble import StackingClassifier\n",
    "from modules.PreProcess import PreProcessURLS\n",
    "from modules.FeatureExtraction import FeatureExtractionURLS\n",
    "import joblib\n",
    "import pandas as pd\n",
    "\n",
    "from sklearn.metrics import accuracy_score\n",
    "from sklearn.metrics import roc_auc_score\n",
    "from sklearn.metrics import f1_score\n",
    "from sklearn.metrics import recall_score\n",
    "from sklearn.metrics import precision_score\n",
    "from sklearn.metrics import confusion_matrix\n",
    "from sklearn.model_selection import train_test_split\n",
    "\n"
   ]
  },
  {
   "cell_type": "code",
   "execution_count": 16,
   "metadata": {},
   "outputs": [],
   "source": [
    "\n",
    "rawUrlFilePath= 'dataset/te.csv'\n",
    "preProcessedFilePath = 'dataset/newprePro.csv'"
   ]
  },
  {
   "cell_type": "code",
   "execution_count": null,
   "metadata": {},
   "outputs": [],
   "source": [
    "    \n",
    "FeatureExtractionURLS(rawUrlFilePath)"
   ]
  },
  {
   "cell_type": "code",
   "execution_count": 5,
   "metadata": {},
   "outputs": [
    {
     "name": "stdout",
     "output_type": "stream",
     "text": [
      "Merging complete. Merged file saved as: dataset/newprePro.csv\n"
     ]
    }
   ],
   "source": [
    "PreProcessURLS().mergeFiles(merged_file_path = preProcessedFilePath)"
   ]
  },
  {
   "cell_type": "code",
   "execution_count": 2,
   "metadata": {},
   "outputs": [],
   "source": [
    "# clean output chuncks\n",
    "PreProcessURLS().deleteFilesInDirectory('output/')"
   ]
  },
  {
   "cell_type": "code",
   "execution_count": 17,
   "metadata": {},
   "outputs": [],
   "source": [
    "\n",
    "file_path = preProcessedFilePath  \n",
    "df = pd.read_csv(file_path)"
   ]
  },
  {
   "cell_type": "code",
   "execution_count": 18,
   "metadata": {},
   "outputs": [],
   "source": [
    "\n",
    "df = df.drop('getDomain', axis=1)\n",
    "\n",
    "predict_rows = df.sample(15, random_state=42)\n",
    "df = df.drop(predict_rows.index)\n",
    "\n",
    "df_Y = df['labels']\n",
    "df_X = df.drop('labels', axis=1)\n",
    "\n",
    "X_train, X_test, y_train, y_test = train_test_split(df_X, df_Y, test_size=0.20, random_state=42)\n",
    "\n",
    "predict_features = predict_rows.drop('labels', axis=1)\n",
    "predict_labels = predict_rows['labels']"
   ]
  },
  {
   "cell_type": "code",
   "execution_count": 19,
   "metadata": {},
   "outputs": [],
   "source": [
    "\n",
    "\n",
    "base_learners_set1 = [('rf', RandomForestClassifier(criterion='entropy', max_features='sqrt', min_samples_leaf=1, min_samples_split=3, n_estimators=100)), \n",
    "                ('mlp', MLPClassifier(max_iter=500, activation='relu', alpha=0.001, hidden_layer_sizes=(20,), learning_rate='adaptive', solver='adam')),\n",
    "                ('knn', KNeighborsClassifier(algorithm='auto', leaf_size=15, n_neighbors=20, p=1, weights='distance'))]\n",
    "\n",
    "base_learners_set2 = [('rf', RandomForestClassifier(criterion='entropy', max_features='sqrt', min_samples_leaf=1, min_samples_split=3, n_estimators=100)), \n",
    "                ('mlp', MLPClassifier(max_iter=500, activation='relu', alpha=0.001, hidden_layer_sizes=(20,), learning_rate='adaptive', solver='adam')), \n",
    "                ('svm', SVC(C=10, kernel='rbf', tol=0.001))]\n",
    "\n",
    "base_learners_set3 = [('rf', RandomForestClassifier(criterion='entropy', max_features='sqrt', min_samples_leaf=1, min_samples_split=3, n_estimators=100)),\n",
    "                ('knn', KNeighborsClassifier(algorithm='auto', leaf_size=15, n_neighbors=20, p=1, weights='distance')), \n",
    "                ('svm', SVC(C=10, kernel='rbf', tol=0.001))]\n",
    "\n",
    "base_learners_set4 = [('mlp', MLPClassifier(max_iter=500, activation='relu', alpha=0.001, hidden_layer_sizes=(20,), learning_rate='adaptive', solver='adam')),\n",
    "                ('knn', KNeighborsClassifier(algorithm='auto', leaf_size=15, n_neighbors=20, p=1, weights='distance')), \n",
    "                ('svm', SVC(C=10, kernel='rbf', tol=0.001))]\n",
    "\n"
   ]
  },
  {
   "cell_type": "code",
   "execution_count": 22,
   "metadata": {},
   "outputs": [
    {
     "name": "stderr",
     "output_type": "stream",
     "text": [
      "c:\\Python311\\Lib\\site-packages\\sklearn\\neural_network\\_multilayer_perceptron.py:691: ConvergenceWarning: Stochastic Optimizer: Maximum iterations (500) reached and the optimization hasn't converged yet.\n",
      "  warnings.warn(\n",
      "c:\\Python311\\Lib\\site-packages\\sklearn\\neural_network\\_multilayer_perceptron.py:691: ConvergenceWarning: Stochastic Optimizer: Maximum iterations (500) reached and the optimization hasn't converged yet.\n",
      "  warnings.warn(\n",
      "c:\\Python311\\Lib\\site-packages\\sklearn\\neural_network\\_multilayer_perceptron.py:691: ConvergenceWarning: Stochastic Optimizer: Maximum iterations (500) reached and the optimization hasn't converged yet.\n",
      "  warnings.warn(\n",
      "c:\\Python311\\Lib\\site-packages\\sklearn\\neural_network\\_multilayer_perceptron.py:691: ConvergenceWarning: Stochastic Optimizer: Maximum iterations (500) reached and the optimization hasn't converged yet.\n",
      "  warnings.warn(\n",
      "c:\\Python311\\Lib\\site-packages\\sklearn\\neural_network\\_multilayer_perceptron.py:691: ConvergenceWarning: Stochastic Optimizer: Maximum iterations (500) reached and the optimization hasn't converged yet.\n",
      "  warnings.warn(\n",
      "c:\\Python311\\Lib\\site-packages\\sklearn\\neural_network\\_multilayer_perceptron.py:691: ConvergenceWarning: Stochastic Optimizer: Maximum iterations (500) reached and the optimization hasn't converged yet.\n",
      "  warnings.warn(\n"
     ]
    },
    {
     "name": "stdout",
     "output_type": "stream",
     "text": [
      "Model Configuration 1 - Test Set Evaluation:\n",
      "Accuracy: 94.82758620689656\n",
      "Precision: 95.45454545454545\n",
      "F1 Score: 87.5\n",
      "Recall: 80.76923076923077\n",
      "ROC AUC: 89.82905982905983\n",
      "Confusion Matrix: [[89  1]\n",
      " [ 5 21]]\n",
      "Combined Metric: 95.141065830721\n",
      "-----------------------------------------\n",
      "\n",
      "Prediction on 15 Rows:\n",
      "Predicted Labels: [0 1 0 1 0 0 0 0 1 0 0 0 0 1 0]\n",
      "Actual Labels: [0 1 0 1 0 0 0 0 1 0 0 0 1 0 0]\n",
      "-----------------------------------------\n",
      "\n"
     ]
    },
    {
     "name": "stderr",
     "output_type": "stream",
     "text": [
      "c:\\Python311\\Lib\\site-packages\\sklearn\\neural_network\\_multilayer_perceptron.py:691: ConvergenceWarning: Stochastic Optimizer: Maximum iterations (500) reached and the optimization hasn't converged yet.\n",
      "  warnings.warn(\n",
      "c:\\Python311\\Lib\\site-packages\\sklearn\\neural_network\\_multilayer_perceptron.py:691: ConvergenceWarning: Stochastic Optimizer: Maximum iterations (500) reached and the optimization hasn't converged yet.\n",
      "  warnings.warn(\n",
      "c:\\Python311\\Lib\\site-packages\\sklearn\\neural_network\\_multilayer_perceptron.py:691: ConvergenceWarning: Stochastic Optimizer: Maximum iterations (500) reached and the optimization hasn't converged yet.\n",
      "  warnings.warn(\n",
      "c:\\Python311\\Lib\\site-packages\\sklearn\\neural_network\\_multilayer_perceptron.py:691: ConvergenceWarning: Stochastic Optimizer: Maximum iterations (500) reached and the optimization hasn't converged yet.\n",
      "  warnings.warn(\n",
      "c:\\Python311\\Lib\\site-packages\\sklearn\\neural_network\\_multilayer_perceptron.py:691: ConvergenceWarning: Stochastic Optimizer: Maximum iterations (500) reached and the optimization hasn't converged yet.\n",
      "  warnings.warn(\n",
      "c:\\Python311\\Lib\\site-packages\\sklearn\\neural_network\\_multilayer_perceptron.py:691: ConvergenceWarning: Stochastic Optimizer: Maximum iterations (500) reached and the optimization hasn't converged yet.\n",
      "  warnings.warn(\n"
     ]
    },
    {
     "name": "stdout",
     "output_type": "stream",
     "text": [
      "Model Configuration 2 - Test Set Evaluation:\n",
      "Accuracy: 93.96551724137932\n",
      "Precision: 88.0\n",
      "F1 Score: 86.27450980392157\n",
      "Recall: 84.61538461538461\n",
      "ROC AUC: 90.64102564102564\n",
      "Confusion Matrix: [[87  3]\n",
      " [ 4 22]]\n",
      "Combined Metric: 90.98275862068965\n",
      "-----------------------------------------\n",
      "\n",
      "Prediction on 15 Rows:\n",
      "Predicted Labels: [0 1 0 0 0 0 0 0 1 0 0 0 1 1 0]\n",
      "Actual Labels: [0 1 0 1 0 0 0 0 1 0 0 0 1 0 0]\n",
      "-----------------------------------------\n",
      "\n",
      "Model Configuration 3 - Test Set Evaluation:\n",
      "Accuracy: 94.82758620689656\n",
      "Precision: 95.45454545454545\n",
      "F1 Score: 87.5\n",
      "Recall: 80.76923076923077\n",
      "ROC AUC: 89.82905982905983\n",
      "Confusion Matrix: [[89  1]\n",
      " [ 5 21]]\n",
      "Combined Metric: 95.141065830721\n",
      "-----------------------------------------\n",
      "\n",
      "Prediction on 15 Rows:\n",
      "Predicted Labels: [0 1 0 1 0 0 0 0 1 0 0 0 0 1 0]\n",
      "Actual Labels: [0 1 0 1 0 0 0 0 1 0 0 0 1 0 0]\n",
      "-----------------------------------------\n",
      "\n"
     ]
    },
    {
     "name": "stderr",
     "output_type": "stream",
     "text": [
      "c:\\Python311\\Lib\\site-packages\\sklearn\\neural_network\\_multilayer_perceptron.py:691: ConvergenceWarning: Stochastic Optimizer: Maximum iterations (500) reached and the optimization hasn't converged yet.\n",
      "  warnings.warn(\n",
      "c:\\Python311\\Lib\\site-packages\\sklearn\\neural_network\\_multilayer_perceptron.py:691: ConvergenceWarning: Stochastic Optimizer: Maximum iterations (500) reached and the optimization hasn't converged yet.\n",
      "  warnings.warn(\n",
      "c:\\Python311\\Lib\\site-packages\\sklearn\\neural_network\\_multilayer_perceptron.py:691: ConvergenceWarning: Stochastic Optimizer: Maximum iterations (500) reached and the optimization hasn't converged yet.\n",
      "  warnings.warn(\n",
      "c:\\Python311\\Lib\\site-packages\\sklearn\\neural_network\\_multilayer_perceptron.py:691: ConvergenceWarning: Stochastic Optimizer: Maximum iterations (500) reached and the optimization hasn't converged yet.\n",
      "  warnings.warn(\n",
      "c:\\Python311\\Lib\\site-packages\\sklearn\\neural_network\\_multilayer_perceptron.py:691: ConvergenceWarning: Stochastic Optimizer: Maximum iterations (500) reached and the optimization hasn't converged yet.\n",
      "  warnings.warn(\n"
     ]
    },
    {
     "name": "stdout",
     "output_type": "stream",
     "text": [
      "Model Configuration 4 - Test Set Evaluation:\n",
      "Accuracy: 94.82758620689656\n",
      "Precision: 95.45454545454545\n",
      "F1 Score: 87.5\n",
      "Recall: 80.76923076923077\n",
      "ROC AUC: 89.82905982905983\n",
      "Confusion Matrix: [[89  1]\n",
      " [ 5 21]]\n",
      "Combined Metric: 95.141065830721\n",
      "-----------------------------------------\n",
      "\n",
      "Prediction on 15 Rows:\n",
      "Predicted Labels: [0 1 0 1 0 0 0 0 1 0 0 0 0 1 0]\n",
      "Actual Labels: [0 1 0 1 0 0 0 0 1 0 0 0 1 0 0]\n",
      "-----------------------------------------\n",
      "\n",
      "The best model configuration is [('rf', RandomForestClassifier(criterion='entropy', min_samples_split=3)), ('mlp', MLPClassifier(alpha=0.001, hidden_layer_sizes=(20,), learning_rate='adaptive',\n",
      "              max_iter=500)), ('knn', KNeighborsClassifier(leaf_size=15, n_neighbors=20, p=1, weights='distance'))] with a combined metric of 95.14\n"
     ]
    },
    {
     "name": "stderr",
     "output_type": "stream",
     "text": [
      "c:\\Python311\\Lib\\site-packages\\sklearn\\neural_network\\_multilayer_perceptron.py:691: ConvergenceWarning: Stochastic Optimizer: Maximum iterations (500) reached and the optimization hasn't converged yet.\n",
      "  warnings.warn(\n"
     ]
    }
   ],
   "source": [
    "best_precision_accuracy=0\n",
    "\n",
    "base_learners = [base_learners_set1, base_learners_set2, base_learners_set3, base_learners_set4]\n",
    "\n",
    "for idx, base_learner_group in enumerate(base_learners):\n",
    "    meta_learner = LogisticRegression()\n",
    "    clf = StackingClassifier(estimators=base_learner_group, final_estimator=meta_learner)\n",
    "\n",
    "    # Train the model on the full training data\n",
    "    clf.fit(X_train, y_train)\n",
    "    \n",
    "    test_predictions = clf.predict(X_test)\n",
    "    precision = precision_score(y_test, test_predictions) * 100\n",
    "    accuracy = accuracy_score(y_test, test_predictions) * 100\n",
    "    combined_metric = (precision + accuracy) / 2 \n",
    "\n",
    "    print(f'Model Configuration {idx + 1} - Test Set Evaluation:')\n",
    "    print('Accuracy:', accuracy)\n",
    "    print('Precision:', precision)\n",
    "    print('F1 Score:', f1_score(y_test, test_predictions) * 100)\n",
    "    print('Recall:', recall_score(y_test, test_predictions) * 100)\n",
    "    print('ROC AUC:', roc_auc_score(y_test, test_predictions) * 100)\n",
    "    print('Confusion Matrix:', confusion_matrix(y_test, test_predictions))\n",
    "    print('Combined Metric:', combined_metric)\n",
    "    print('-----------------------------------------\\n')\n",
    "\n",
    "    # Predict on the 15 rows and compare with actual labels\n",
    "    predict_predictions = clf.predict(predict_features)\n",
    "    print('Prediction on 15 Rows:')\n",
    "    print('Predicted Labels:', predict_predictions)\n",
    "    print('Actual Labels:', predict_labels.values)\n",
    "    print('-----------------------------------------\\n')\n",
    "\n",
    "    # Save the best configuration and model based on the combined metric\n",
    "    if combined_metric > best_precision_accuracy:\n",
    "        best_precision_accuracy = combined_metric\n",
    "        best_config = base_learner_group\n",
    "        best_model = clf\n",
    "\n",
    "\n",
    "print(f'The best model configuration is {best_config} with a combined metric of {best_precision_accuracy:.2f}')\n",
    "\n"
   ]
  },
  {
   "cell_type": "code",
   "execution_count": 23,
   "metadata": {},
   "outputs": [
    {
     "data": {
      "text/plain": [
       "['model/NewBest_model.pkl']"
      ]
     },
     "execution_count": 23,
     "metadata": {},
     "output_type": "execute_result"
    }
   ],
   "source": [
    "\n",
    "joblib.dump(best_model, 'model/NewBest_model.pkl')"
   ]
  },
  {
   "cell_type": "code",
   "execution_count": null,
   "metadata": {},
   "outputs": [],
   "source": []
  }
 ],
 "metadata": {
  "kernelspec": {
   "display_name": ".env",
   "language": "python",
   "name": "python3"
  },
  "language_info": {
   "codemirror_mode": {
    "name": "ipython",
    "version": 3
   },
   "file_extension": ".py",
   "mimetype": "text/x-python",
   "name": "python",
   "nbconvert_exporter": "python",
   "pygments_lexer": "ipython3",
   "version": "3.11.5"
  }
 },
 "nbformat": 4,
 "nbformat_minor": 2
}
