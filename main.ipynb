{
 "cells": [
  {
   "cell_type": "code",
   "execution_count": null,
   "metadata": {},
   "outputs": [],
   "source": [
    "from url.pyClasses.Prediction import PredictionURLS\n",
    "from emailHeader.pyClasses.FeatureExtractionEmail import FeatureExtractionEmail\n",
    "from flask_cors import CORS\n",
    "from flask import Flask,render_template, request\n",
    "\n",
    "import warnings\n",
    "import joblib"
   ]
  },
  {
   "cell_type": "code",
   "execution_count": null,
   "metadata": {},
   "outputs": [],
   "source": [
    "def loadPredict(predict):\n",
    "    \n",
    "    loaded_model = joblib.load('emailHeader/model/best_model.pkl')\n",
    "\n",
    "    label = loaded_model.predict(predict)\n",
    "\n",
    "    return label\n",
    "\n",
    "\n",
    "def predictionEmail(email_content):\n",
    "        \n",
    "    obj=FeatureExtractionEmail(email_content)\n",
    "\n",
    "    df = obj.df\n",
    "\n",
    "    prad = loadPredict(df)\n",
    "    print('Prad-> ',prad)\n",
    "    return prad"
   ]
  },
  {
   "cell_type": "code",
   "execution_count": null,
   "metadata": {},
   "outputs": [],
   "source": [
    "def predictionURLS( urls=[]):\n",
    "    \n",
    "    warnings.filterwarnings(\"ignore\", category=UserWarning, message=\"Trying to unpickle estimator.*from version.*when using version.*\")  \n",
    "\n",
    "    obj = PredictionURLS(urls)\n",
    "\n",
    "    return obj.resultOutput\n"
   ]
  },
  {
   "cell_type": "code",
   "execution_count": null,
   "metadata": {},
   "outputs": [],
   "source": [
    "\n",
    "\n",
    "app = Flask(__name__)\n",
    "CORS(app)  # Enable CORS for all routes\n",
    "\n",
    "@app.route('/')\n",
    "def home():\n",
    "    return render_template('index.html')\n",
    "\n",
    "@app.route('/urlpredict', methods=['POST'])\n",
    "def urlpredict():\n",
    "    \n",
    "    url = request.form.get('url', '')\n",
    "    \n",
    "    url_result = predictionURLS([url])\n",
    "\n",
    "    # Render the result template with the prediction result\n",
    "    return render_template('index.html', url_result=url_result)\n",
    "\n",
    "@app.route('/emailpredict', methods=['POST'])\n",
    "def emailpredict():\n",
    "    \n",
    "    email = request.form.get('email', '')\n",
    "    \n",
    "    email_result = predictionEmail(email)\n",
    "\n",
    "    # Render the result template with the prediction result\n",
    "    return render_template('index.html', email_result=email_result)\n",
    "\n",
    "\n",
    "\n",
    "if __name__ == '__main__':\n",
    "    # Run the app\n",
    "    app.run(host='0.0.0.0', port=8080, debug=False, use_reloader=False)\n"
   ]
  },
  {
   "cell_type": "code",
   "execution_count": null,
   "metadata": {},
   "outputs": [],
   "source": []
  }
 ],
 "metadata": {
  "kernelspec": {
   "display_name": ".env",
   "language": "python",
   "name": "python3"
  },
  "language_info": {
   "codemirror_mode": {
    "name": "ipython",
    "version": 3
   },
   "file_extension": ".py",
   "mimetype": "text/x-python",
   "name": "python",
   "nbconvert_exporter": "python",
   "pygments_lexer": "ipython3",
   "version": "3.11.5"
  }
 },
 "nbformat": 4,
 "nbformat_minor": 2
}
