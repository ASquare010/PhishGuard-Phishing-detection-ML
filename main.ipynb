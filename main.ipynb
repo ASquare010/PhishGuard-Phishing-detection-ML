{
 "cells": [
  {
   "cell_type": "code",
   "execution_count": 15,
   "metadata": {},
   "outputs": [],
   "source": [
    "from phishingDetection.urlPishDect.modules.Prediction import PredictionURLS\n",
    "from phishingDetection.emailPishDect.modules.FeatureExtractionEmail import FeatureExtractionEmail\n",
    "from flask_cors import CORS\n",
    "from flask import Flask,render_template, request,jsonify\n",
    "\n",
    "import warnings\n",
    "import joblib"
   ]
  },
  {
   "cell_type": "markdown",
   "metadata": {},
   "source": [
    "Email "
   ]
  },
  {
   "cell_type": "code",
   "execution_count": 16,
   "metadata": {},
   "outputs": [],
   "source": [
    "def loadPredict(predict):\n",
    "    \n",
    "    loaded_model = joblib.load('phishingDetection/emailPishDect/model/best_model.pkl')\n",
    "    label = loaded_model.predict(predict)\n",
    "\n",
    "    return label\n",
    "\n",
    "\n",
    "def predictionEmail(email_content):\n",
    "        \n",
    "    obj=FeatureExtractionEmail(email_content)\n",
    "    df = obj.df\n",
    "    prad = loadPredict(df)\n",
    "    \n",
    "    return prad"
   ]
  },
  {
   "cell_type": "markdown",
   "metadata": {},
   "source": [
    "Urls"
   ]
  },
  {
   "cell_type": "code",
   "execution_count": 17,
   "metadata": {},
   "outputs": [],
   "source": [
    "def predictionURLS( urls=[]):\n",
    "    \n",
    "    warnings.filterwarnings(\"ignore\", category=UserWarning, message=\"Trying to unpickle estimator.*from version.*when using version.*\")  \n",
    "\n",
    "    obj = PredictionURLS(urls)\n",
    "\n",
    "    return obj.resultOutput\n"
   ]
  },
  {
   "cell_type": "code",
   "execution_count": 18,
   "metadata": {},
   "outputs": [
    {
     "data": {
      "text/plain": [
       "<flask_cors.extension.CORS at 0x2407f269290>"
      ]
     },
     "execution_count": 18,
     "metadata": {},
     "output_type": "execute_result"
    }
   ],
   "source": [
    "\n",
    "app = Flask(__name__)\n",
    "CORS(app)  # Enable CORS for all routes\n"
   ]
  },
  {
   "cell_type": "markdown",
   "metadata": {},
   "source": [
    "For Website API Calls"
   ]
  },
  {
   "cell_type": "code",
   "execution_count": 19,
   "metadata": {},
   "outputs": [],
   "source": [
    "@app.route('/')\n",
    "def home():\n",
    "    return render_template('index.html')\n",
    "\n",
    "\n",
    "@app.route('/urlpredict', methods=['POST'])\n",
    "def urlpredict():\n",
    "    \n",
    "    url = request.form.get('url', '')\n",
    "    \n",
    "    url_result = predictionURLS([url])\n",
    "\n",
    "    # Render the result template with the prediction result\n",
    "    return render_template('index.html', url_result=url_result)\n",
    "\n",
    "\n",
    "\n",
    "\n",
    "@app.route('/emailpredict', methods=['POST'])\n",
    "def emailpredict():\n",
    "    \n",
    "    email = request.form.get('email', '')\n",
    "    \n",
    "    email_result = predictionEmail(email)\n",
    "\n",
    "    # Render the result template with the prediction result\n",
    "    return render_template('index.html', email_result=email_result)\n"
   ]
  },
  {
   "cell_type": "markdown",
   "metadata": {},
   "source": [
    "For Extention API Calls"
   ]
  },
  {
   "cell_type": "code",
   "execution_count": 20,
   "metadata": {},
   "outputs": [],
   "source": [
    "\n",
    "\n",
    "@app.route('/urlpredictExt', methods=['POST'])\n",
    "def urlpredictExt():\n",
    "    \n",
    "    data = request.json\n",
    "    url = data.get('url', '')\n",
    "    \n",
    "    url_result = predictionURLS([url])\n",
    "\n",
    "    result = 'Phishing'\n",
    "    if(url_result[9] == '0'):\n",
    "        result = 'Safe'\n",
    "\n",
    "    return {\"result\": f\"Current Url Result: {result}\"}\n",
    "\n",
    "@app.route('/emailpredictExt', methods=['POST'])\n",
    "def emailpredictExt():\n",
    "    \n",
    "    data = request.json\n",
    "    email = data.get('email', '')\n",
    "    \n",
    "\n",
    "    email_result = predictionEmail(email)\n",
    "    \n",
    "    print(email_result)\n",
    "\n",
    "    result = 'Phishing'\n",
    "    if(email_result[0] == 0):\n",
    "        result = 'Safe'\n",
    "    # Render the result template with the prediction result\n",
    "    return {\"result\": f\"Email Result: {result}\"}\n",
    "\n"
   ]
  },
  {
   "cell_type": "code",
   "execution_count": 21,
   "metadata": {},
   "outputs": [
    {
     "name": "stdout",
     "output_type": "stream",
     "text": [
      " * Serving Flask app '__main__'\n",
      " * Debug mode: off\n"
     ]
    },
    {
     "name": "stderr",
     "output_type": "stream",
     "text": [
      "WARNING: This is a development server. Do not use it in a production deployment. Use a production WSGI server instead.\n",
      " * Running on all addresses (0.0.0.0)\n",
      " * Running on http://127.0.0.1:8080\n",
      " * Running on http://172.20.193.211:8080\n",
      "Press CTRL+C to quit\n",
      "172.20.193.211 - - [11/Mar/2024 11:47:48] \"GET / HTTP/1.1\" 200 -\n",
      "172.20.193.211 - - [11/Mar/2024 11:47:48] \"GET /static/css/styles.css HTTP/1.1\" 200 -\n",
      "172.20.193.211 - - [11/Mar/2024 11:47:48] \"GET /favicon.ico HTTP/1.1\" 404 -\n",
      "172.20.193.211 - - [11/Mar/2024 11:48:10] \"OPTIONS /urlpredictExt HTTP/1.1\" 200 -\n",
      "172.20.193.211 - - [11/Mar/2024 11:48:20] \"POST /urlpredictExt HTTP/1.1\" 200 -\n",
      "172.20.193.211 - - [11/Mar/2024 11:48:57] \"OPTIONS /urlpredictExt HTTP/1.1\" 200 -\n",
      "172.20.193.211 - - [11/Mar/2024 11:49:01] \"POST /urlpredictExt HTTP/1.1\" 200 -\n",
      "172.20.193.211 - - [11/Mar/2024 11:49:02] \"OPTIONS /urlpredictExt HTTP/1.1\" 200 -\n",
      "172.20.193.211 - - [11/Mar/2024 11:49:06] \"POST /urlpredictExt HTTP/1.1\" 200 -\n",
      "172.20.193.211 - - [11/Mar/2024 11:50:18] \"OPTIONS /urlpredictExt HTTP/1.1\" 200 -\n",
      "172.20.193.211 - - [11/Mar/2024 11:50:22] \"POST /urlpredictExt HTTP/1.1\" 200 -\n",
      "172.20.193.211 - - [11/Mar/2024 11:50:26] \"POST /urlpredictExt HTTP/1.1\" 200 -\n",
      "172.20.193.211 - - [11/Mar/2024 11:50:33] \"OPTIONS /urlpredictExt HTTP/1.1\" 200 -\n",
      "172.20.193.211 - - [11/Mar/2024 11:50:37] \"POST /urlpredictExt HTTP/1.1\" 200 -\n",
      "172.20.193.211 - - [11/Mar/2024 11:51:17] \"OPTIONS /urlpredictExt HTTP/1.1\" 200 -\n",
      "172.20.193.211 - - [11/Mar/2024 11:51:21] \"POST /urlpredictExt HTTP/1.1\" 200 -\n",
      "172.20.193.211 - - [11/Mar/2024 11:54:34] \"OPTIONS /urlpredictExt HTTP/1.1\" 200 -\n",
      "172.20.193.211 - - [11/Mar/2024 11:54:39] \"POST /urlpredictExt HTTP/1.1\" 200 -\n"
     ]
    }
   ],
   "source": [
    "\n",
    "if __name__ == '__main__':\n",
    "    app.run(host='0.0.0.0', port=8080, debug=False, use_reloader=False)\n"
   ]
  }
 ],
 "metadata": {
  "kernelspec": {
   "display_name": ".env",
   "language": "python",
   "name": "python3"
  },
  "language_info": {
   "codemirror_mode": {
    "name": "ipython",
    "version": 3
   },
   "file_extension": ".py",
   "mimetype": "text/x-python",
   "name": "python",
   "nbconvert_exporter": "python",
   "pygments_lexer": "ipython3",
   "version": "3.11.5"
  }
 },
 "nbformat": 4,
 "nbformat_minor": 2
}
