{
 "cells": [
  {
   "cell_type": "code",
   "execution_count": null,
   "metadata": {},
   "outputs": [],
   "source": [
    "from phishingDetection.urlPishDect.modules.Prediction import PredictionURLS\n",
    "from phishingDetection.emailPishDect.modules.FeatureExtractionEmail import FeatureExtractionEmail\n",
    "from flask_cors import CORS\n",
    "from flask import Flask,render_template, request,jsonify\n",
    "\n",
    "import warnings\n",
    "import joblib"
   ]
  },
  {
   "cell_type": "markdown",
   "metadata": {},
   "source": [
    "Email "
   ]
  },
  {
   "cell_type": "code",
   "execution_count": null,
   "metadata": {},
   "outputs": [],
   "source": [
    "def loadPredict(predict):\n",
    "    \n",
    "    loaded_model = joblib.load('phishingDetection/emailPishDect/model/best_model.pkl')\n",
    "    label = loaded_model.predict(predict)\n",
    "\n",
    "    return label\n",
    "\n",
    "\n",
    "def predictionEmail(email_content):\n",
    "        \n",
    "    obj=FeatureExtractionEmail(email_content)\n",
    "    df = obj.df\n",
    "    prad = loadPredict(df)\n",
    "    \n",
    "    return prad"
   ]
  },
  {
   "cell_type": "markdown",
   "metadata": {},
   "source": [
    "Urls"
   ]
  },
  {
   "cell_type": "code",
   "execution_count": null,
   "metadata": {},
   "outputs": [],
   "source": [
    "def predictionURLS( urls=[]):\n",
    "    \n",
    "    warnings.filterwarnings(\"ignore\", category=UserWarning, message=\"Trying to unpickle estimator.*from version.*when using version.*\")  \n",
    "\n",
    "    obj = PredictionURLS(urls)\n",
    "\n",
    "    return obj.resultOutput\n"
   ]
  },
  {
   "cell_type": "code",
   "execution_count": null,
   "metadata": {},
   "outputs": [],
   "source": [
    "\n",
    "app = Flask(__name__)\n",
    "CORS(app)  # Enable CORS for all routes\n"
   ]
  },
  {
   "cell_type": "markdown",
   "metadata": {},
   "source": [
    "For Website API Calls"
   ]
  },
  {
   "cell_type": "code",
   "execution_count": null,
   "metadata": {},
   "outputs": [],
   "source": [
    "@app.route('/')\n",
    "def home():\n",
    "    return render_template('index.html')\n",
    "\n",
    "\n",
    "@app.route('/urlpredict', methods=['POST'])\n",
    "def urlpredict():\n",
    "    \n",
    "    url = request.form.get('url', '')\n",
    "    \n",
    "    url_result = predictionURLS([url])\n",
    "\n",
    "    # Render the result template with the prediction result\n",
    "    return render_template('index.html', url_result=url_result)\n",
    "\n",
    "\n",
    "\n",
    "\n",
    "@app.route('/emailpredict', methods=['POST'])\n",
    "def emailpredict():\n",
    "    \n",
    "    email = request.form.get('email', '')\n",
    "    \n",
    "    email_result = predictionEmail(email)\n",
    "\n",
    "    # Render the result template with the prediction result\n",
    "    return render_template('index.html', email_result=email_result)\n"
   ]
  },
  {
   "cell_type": "markdown",
   "metadata": {},
   "source": [
    "For Extention API Calls"
   ]
  },
  {
   "cell_type": "code",
   "execution_count": null,
   "metadata": {},
   "outputs": [],
   "source": [
    "\n",
    "\n",
    "@app.route('/urlpredictExt', methods=['POST'])\n",
    "def urlpredictExt():\n",
    "    \n",
    "    data = request.json\n",
    "    url = data.get('url', '')\n",
    "    \n",
    "    url_result = predictionURLS([url])\n",
    "\n",
    "    return {\"result\": f\"Url Result {url_result}\"}\n",
    "\n",
    "@app.route('/emailpredictExt', methods=['POST'])\n",
    "def emailpredictExt():\n",
    "    \n",
    "    data = request.json\n",
    "    email = data.get('email', '')\n",
    "    \n",
    "\n",
    "    email_result = predictionEmail(email)\n",
    "\n",
    "    # Render the result template with the prediction result\n",
    "    return {\"result\": f\"Email Result {email_result}\"}\n",
    "\n"
   ]
  },
  {
   "cell_type": "code",
   "execution_count": 8,
   "metadata": {},
   "outputs": [],
   "source": [
    "\n",
    "if __name__ == '__main__':\n",
    "    \n",
    "    app.run(host='0.0.0.0', port=8080, debug=False, use_reloader=False)\n",
    "\n"
   ]
  }
 ],
 "metadata": {
  "kernelspec": {
   "display_name": ".env",
   "language": "python",
   "name": "python3"
  },
  "language_info": {
   "codemirror_mode": {
    "name": "ipython",
    "version": 3
   },
   "file_extension": ".py",
   "mimetype": "text/x-python",
   "name": "python",
   "nbconvert_exporter": "python",
   "pygments_lexer": "ipython3",
   "version": "3.11.5"
  }
 },
 "nbformat": 4,
 "nbformat_minor": 2
}
