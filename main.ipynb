{
 "cells": [
  {
   "cell_type": "code",
   "execution_count": null,
   "metadata": {},
   "outputs": [],
   "source": [
    "from phishingDetection.urlPishDect.modules.Prediction import PredictionURLS\n",
    "from phishingDetection.emailPishDect.modules.FeatureExtractionEmail import FeatureExtractionEmail\n",
    "from flask_cors import CORS\n",
    "from flask import Flask,render_template, request,jsonify\n",
    "\n",
    "import gzip\n",
    "import warnings\n",
    "import joblib\n",
    "import os"
   ]
  },
  {
   "cell_type": "code",
   "execution_count": null,
   "metadata": {},
   "outputs": [],
   "source": [
    "\n",
    "\n",
    "def compress_pickle(input_file, output_file):\n",
    "    with open(input_file, 'rb') as f_in:\n",
    "        with gzip.open(output_file, 'wb') as f_out:\n",
    "            f_out.write(f_in.read())\n",
    "\n",
    "def decompress_pickle(input_file, output_file):\n",
    "    if not os.path.exists(output_file):\n",
    "        with gzip.open(input_file, 'rb') as f_in:\n",
    "            with open(output_file, 'wb') as f_out:\n",
    "                f_out.write(f_in.read())\n",
    " "
   ]
  },
  {
   "cell_type": "code",
   "execution_count": null,
   "metadata": {},
   "outputs": [],
   "source": [
    "def decompressFiles():\n",
    "    decompress_pickle('phishingDetection/emailPishDect/model/best_model.gz','phishingDetection/emailPishDect/model/best_model.pkl')\n",
    "    decompress_pickle('phishingDetection/urlPishDect/model/bestmodel.gz','phishingDetection/urlPishDect/model/bestmodel.pkl')"
   ]
  },
  {
   "cell_type": "markdown",
   "metadata": {},
   "source": [
    "Email "
   ]
  },
  {
   "cell_type": "code",
   "execution_count": null,
   "metadata": {},
   "outputs": [],
   "source": [
    "def loadPredict(predict):\n",
    "\n",
    "    loaded_model = joblib.load('phishingDetection/emailPishDect/model/best_model.pkl')\n",
    "    \n",
    "    label = loaded_model.predict(predict)\n",
    "\n",
    "    return label\n",
    "\n",
    "\n",
    "def predictionEmail(email_content):    \n",
    "    decompressFiles()\n",
    "\n",
    "    obj=FeatureExtractionEmail(email_content)\n",
    "    df = obj.df\n",
    "    loaded_scaler = joblib.load('phishingDetection/emailPishDect/model/scaler_model.joblib')\n",
    "    t_df = loaded_scaler.transform(df)\n",
    "    \n",
    "    prad = loadPredict(t_df)\n",
    "    \n",
    "    return prad"
   ]
  },
  {
   "cell_type": "markdown",
   "metadata": {},
   "source": [
    "Urls"
   ]
  },
  {
   "cell_type": "code",
   "execution_count": null,
   "metadata": {},
   "outputs": [],
   "source": [
    "def predictionURLS( urls=[]):\n",
    "    warnings.filterwarnings(\"ignore\", category=UserWarning, message=\"Trying to unpickle estimator.*from version.*when using version.*\")  \n",
    "    \n",
    "    decompressFiles()\n",
    "\n",
    "    obj = PredictionURLS(urls)\n",
    "\n",
    "    return obj.resultOutput\n"
   ]
  },
  {
   "cell_type": "code",
   "execution_count": null,
   "metadata": {},
   "outputs": [],
   "source": [
    "\n",
    "app = Flask(__name__)\n",
    "CORS(app)  # Enable CORS for all routes\n"
   ]
  },
  {
   "cell_type": "markdown",
   "metadata": {},
   "source": [
    "For Website API Calls"
   ]
  },
  {
   "cell_type": "code",
   "execution_count": null,
   "metadata": {},
   "outputs": [],
   "source": [
    "@app.route('/')\n",
    "def home():\n",
    "    return render_template('index.html')\n",
    "\n",
    "\n",
    "@app.route('/urlpredict', methods=['POST'])\n",
    "def urlpredict():\n",
    "    \n",
    "    url = request.form.get('url', '')\n",
    "    \n",
    "    url_result = predictionURLS([url])\n",
    "\n",
    "    # Render the result template with the prediction result\n",
    "    return render_template('index.html', url_result=url_result)\n",
    "\n",
    "\n",
    "\n",
    "\n",
    "@app.route('/emailpredict', methods=['POST'])\n",
    "def emailpredict():\n",
    "    \n",
    "    email = request.form.get('email', '')\n",
    "    \n",
    "    email_result = predictionEmail(email)\n",
    "\n",
    "    # Render the result template with the prediction result\n",
    "    return render_template('index.html', email_result=email_result)\n"
   ]
  },
  {
   "cell_type": "markdown",
   "metadata": {},
   "source": [
    "For Extention API Calls"
   ]
  },
  {
   "cell_type": "code",
   "execution_count": null,
   "metadata": {},
   "outputs": [],
   "source": [
    "\n",
    "\n",
    "@app.route('/urlpredictExt', methods=['POST'])\n",
    "def urlpredictExt():\n",
    "    \n",
    "    data = request.json\n",
    "    url = data.get('url', '')\n",
    "    \n",
    "    url_result = predictionURLS([url])\n",
    "\n",
    "    result = 'Phishing'\n",
    "    if(url_result[9] == '0'):\n",
    "        result = 'Safe'\n",
    "\n",
    "    return {\"result\": f\"Current Url Result: {result}\"}\n",
    "\n",
    "@app.route('/emailpredictExt', methods=['POST'])\n",
    "def emailpredictExt():\n",
    "\n",
    "    data = request.json\n",
    "    email = data.get('email', '')\n",
    "    \n",
    "\n",
    "    email_result = predictionEmail(email)\n",
    "    \n",
    "    print(email_result)\n",
    "\n",
    "    result = 'Phishing'\n",
    "    if(email_result[0] == 0):\n",
    "        result = 'Safe'\n",
    "    # Render the result template with the prediction result\n",
    "    return {\"result\": f\"Email Result: {result}\"}\n",
    "\n"
   ]
  },
  {
   "cell_type": "code",
   "execution_count": null,
   "metadata": {},
   "outputs": [],
   "source": [
    "if __name__ == '__main__':\n",
    "    port = int(os.environ.get('PORT', 5000))\n",
    "    app.run(host='0.0.0.0', port=port)"
   ]
  },
  {
   "cell_type": "code",
   "execution_count": null,
   "metadata": {},
   "outputs": [],
   "source": []
  }
 ],
 "metadata": {
  "kernelspec": {
   "display_name": ".env",
   "language": "python",
   "name": "python3"
  },
  "language_info": {
   "codemirror_mode": {
    "name": "ipython",
    "version": 3
   },
   "file_extension": ".py",
   "mimetype": "text/x-python",
   "name": "python",
   "nbconvert_exporter": "python",
   "pygments_lexer": "ipython3",
   "version": "3.11.5"
  }
 },
 "nbformat": 4,
 "nbformat_minor": 2
}
