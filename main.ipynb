{
 "cells": [
  {
   "cell_type": "code",
   "execution_count": 5,
   "metadata": {},
   "outputs": [],
   "source": [
    "from url.pyClasses.Prediction import PredictionURLS\n",
    "from emailHeader.pyClasses.FeatureExtractionEmail import FeatureExtractionEmail\n",
    "from flask_cors import CORS\n",
    "from flask import Flask,render_template, request,jsonify\n",
    "\n",
    "import warnings\n",
    "import joblib"
   ]
  },
  {
   "cell_type": "code",
   "execution_count": 6,
   "metadata": {},
   "outputs": [],
   "source": [
    "def loadPredict(predict):\n",
    "    \n",
    "    loaded_model = joblib.load('emailHeader/model/best_model.pkl')\n",
    "\n",
    "    label = loaded_model.predict(predict)\n",
    "\n",
    "    return label\n",
    "\n",
    "\n",
    "def predictionEmail(email_content):\n",
    "        \n",
    "    obj=FeatureExtractionEmail(email_content)\n",
    "\n",
    "    df = obj.df\n",
    "\n",
    "    prad = loadPredict(df)\n",
    "    print('Prad-> ',prad)\n",
    "    return prad"
   ]
  },
  {
   "cell_type": "code",
   "execution_count": 7,
   "metadata": {},
   "outputs": [],
   "source": [
    "def predictionURLS( urls=[]):\n",
    "    \n",
    "    warnings.filterwarnings(\"ignore\", category=UserWarning, message=\"Trying to unpickle estimator.*from version.*when using version.*\")  \n",
    "\n",
    "    obj = PredictionURLS(urls)\n",
    "\n",
    "    return obj.resultOutput\n"
   ]
  },
  {
   "cell_type": "code",
   "execution_count": 8,
   "metadata": {},
   "outputs": [
    {
     "name": "stdout",
     "output_type": "stream",
     "text": [
      " * Serving Flask app '__main__'\n",
      " * Debug mode: off\n"
     ]
    },
    {
     "name": "stderr",
     "output_type": "stream",
     "text": [
      "WARNING: This is a development server. Do not use it in a production deployment. Use a production WSGI server instead.\n",
      " * Running on all addresses (0.0.0.0)\n",
      " * Running on http://127.0.0.1:8080\n",
      " * Running on http://192.168.0.102:8080\n",
      "Press CTRL+C to quit\n",
      "192.168.0.102 - - [05/Mar/2024 17:00:52] \"OPTIONS /urlpredictExt HTTP/1.1\" 200 -\n",
      "192.168.0.102 - - [05/Mar/2024 17:01:01] \"POST /urlpredictExt HTTP/1.1\" 200 -\n",
      "192.168.0.102 - - [05/Mar/2024 17:01:34] \"OPTIONS /urlpredictExt HTTP/1.1\" 200 -\n",
      "192.168.0.102 - - [05/Mar/2024 17:01:37] \"POST /urlpredictExt HTTP/1.1\" 200 -\n",
      "192.168.0.102 - - [05/Mar/2024 17:03:10] \"OPTIONS /urlpredictExt HTTP/1.1\" 200 -\n",
      "192.168.0.102 - - [05/Mar/2024 17:03:14] \"POST /urlpredictExt HTTP/1.1\" 200 -\n",
      "192.168.0.102 - - [05/Mar/2024 17:03:17] \"OPTIONS /urlpredictExt HTTP/1.1\" 200 -\n",
      "192.168.0.102 - - [05/Mar/2024 17:03:17] \"POST /urlpredictExt HTTP/1.1\" 200 -\n",
      "192.168.0.102 - - [05/Mar/2024 17:03:34] \"OPTIONS /urlpredictExt HTTP/1.1\" 200 -\n",
      "192.168.0.102 - - [05/Mar/2024 17:03:38] \"POST /urlpredictExt HTTP/1.1\" 200 -\n",
      "192.168.0.102 - - [05/Mar/2024 17:03:39] \"POST /urlpredictExt HTTP/1.1\" 200 -\n"
     ]
    }
   ],
   "source": [
    "\n",
    "\n",
    "app = Flask(__name__)\n",
    "CORS(app)  # Enable CORS for all routes\n",
    "\n",
    "@app.route('/')\n",
    "def home():\n",
    "    return render_template('index.html')\n",
    "\n",
    "@app.route('/urlpredict', methods=['POST'])\n",
    "def urlpredict():\n",
    "    \n",
    "    url = request.form.get('url', '')\n",
    "    \n",
    "    url_result = predictionURLS([url])\n",
    "\n",
    "    # Render the result template with the prediction result\n",
    "    return render_template('index.html', url_result=url_result)\n",
    "\n",
    "\n",
    "@app.route('/emailpredict', methods=['POST'])\n",
    "def emailpredict():\n",
    "    \n",
    "    email = request.form.get('email', '')\n",
    "    \n",
    "    email_result = predictionEmail(email)\n",
    "\n",
    "    # Render the result template with the prediction result\n",
    "    return render_template('index.html', email_result=email_result)\n",
    "\n",
    "\n",
    "@app.route('/urlpredictExt', methods=['POST'])\n",
    "def urlpredictExt():\n",
    "    \n",
    "    data = request.json\n",
    "    url = data.get('url', '')\n",
    "    \n",
    "    url_result = predictionURLS([url])\n",
    "\n",
    "    return {\"result\": f\"Url Result {url_result}\"}\n",
    "\n",
    "@app.route('/emailpredictExt', methods=['POST'])\n",
    "def emailpredictExt():\n",
    "    \n",
    "    data = request.json\n",
    "    email = data.get('email', '')\n",
    "\n",
    "    email_result = predictionEmail(email)\n",
    "\n",
    "    # Render the result template with the prediction result\n",
    "    return {\"result\": f\"Email Result {email_result}\"}\n",
    "\n",
    "\n",
    "\n",
    "if __name__ == '__main__':\n",
    "    \n",
    "    app.run(host='0.0.0.0', port=8080, debug=False, use_reloader=False)\n",
    "\n",
    "\n"
   ]
  },
  {
   "cell_type": "code",
   "execution_count": null,
   "metadata": {},
   "outputs": [],
   "source": []
  }
 ],
 "metadata": {
  "kernelspec": {
   "display_name": ".env",
   "language": "python",
   "name": "python3"
  },
  "language_info": {
   "codemirror_mode": {
    "name": "ipython",
    "version": 3
   },
   "file_extension": ".py",
   "mimetype": "text/x-python",
   "name": "python",
   "nbconvert_exporter": "python",
   "pygments_lexer": "ipython3",
   "version": "3.11.5"
  }
 },
 "nbformat": 4,
 "nbformat_minor": 2
}
