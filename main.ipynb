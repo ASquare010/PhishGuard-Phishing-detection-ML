{
 "cells": [
  {
   "cell_type": "code",
   "execution_count": null,
   "metadata": {},
   "outputs": [],
   "source": [
    "from phishingDetection.urlPishDect.modules.Prediction import PredictionURLS\n",
    "from phishingDetection.emailPishDect.modules.FeatureExtractionEmail import FeatureExtractionEmail\n",
    "from flask_cors import CORS\n",
    "from flask import Flask,render_template, request,jsonify\n",
    "from flask_login import LoginManager, UserMixin, login_user, login_required, logout_user\n",
    "\n",
    "\n",
    "import gzip\n",
    "import warnings\n",
    "import joblib\n",
    "import os"
   ]
  },
  {
   "cell_type": "code",
   "execution_count": null,
   "metadata": {},
   "outputs": [],
   "source": [
    "\n",
    "app = Flask(__name__)\n",
    "CORS(app)  # Enable CORS for all routes\n",
    "\n",
    "app.secret_key = 'kP6w2Xr8vN3sQ7tT'\n",
    "\n",
    "login_manager = LoginManager()\n",
    "login_manager.init_app(app)"
   ]
  },
  {
   "cell_type": "code",
   "execution_count": null,
   "metadata": {},
   "outputs": [],
   "source": [
    "\n",
    "\n",
    "def compress_pickle(input_file, output_file):\n",
    "    with open(input_file, 'rb') as f_in:\n",
    "        with gzip.open(output_file, 'wb') as f_out:\n",
    "            f_out.write(f_in.read())\n",
    "\n",
    "def decompress_pickle(input_file, output_file):\n",
    "    if not os.path.exists(output_file):\n",
    "        with gzip.open(input_file, 'rb') as f_in:\n",
    "            with open(output_file, 'wb') as f_out:\n",
    "                f_out.write(f_in.read())\n",
    " "
   ]
  },
  {
   "cell_type": "code",
   "execution_count": null,
   "metadata": {},
   "outputs": [],
   "source": [
    "def decompressFiles():\n",
    "    decompress_pickle('phishingDetection/emailPishDect/model/best_model.gz','phishingDetection/emailPishDect/model/best_model.pkl')\n",
    "    decompress_pickle('phishingDetection/urlPishDect/model/bestmodel.gz','phishingDetection/urlPishDect/model/bestmodel.pkl')"
   ]
  },
  {
   "cell_type": "markdown",
   "metadata": {},
   "source": [
    "Email "
   ]
  },
  {
   "cell_type": "code",
   "execution_count": null,
   "metadata": {},
   "outputs": [],
   "source": [
    "def loadPredict(predict):\n",
    "\n",
    "    loaded_model = joblib.load('phishingDetection/emailPishDect/model/best_model.pkl')\n",
    "    \n",
    "    label = loaded_model.predict(predict)\n",
    "\n",
    "    return label\n",
    "\n",
    "\n",
    "def predictionEmail(email_content):    \n",
    "    decompressFiles()\n",
    "\n",
    "    obj=FeatureExtractionEmail(email_content)\n",
    "    df = obj.df\n",
    "    loaded_scaler = joblib.load('phishingDetection/emailPishDect/model/scaler_model.joblib')\n",
    "    t_df = loaded_scaler.transform(df)\n",
    "    \n",
    "    prad = loadPredict(t_df)\n",
    "    \n",
    "    return prad"
   ]
  },
  {
   "cell_type": "markdown",
   "metadata": {},
   "source": [
    "Urls"
   ]
  },
  {
   "cell_type": "code",
   "execution_count": null,
   "metadata": {},
   "outputs": [],
   "source": [
    "def predictionURLS( urls=[]):\n",
    "    warnings.filterwarnings(\"ignore\", category=UserWarning, message=\"Trying to unpickle estimator.*from version.*when using version.*\")  \n",
    "    \n",
    "    decompressFiles()\n",
    "\n",
    "    obj = PredictionURLS(urls)\n",
    "\n",
    "    return obj.resultOutput\n"
   ]
  },
  {
   "cell_type": "markdown",
   "metadata": {},
   "source": [
    "Api Key"
   ]
  },
  {
   "cell_type": "code",
   "execution_count": null,
   "metadata": {},
   "outputs": [],
   "source": [
    "VALID_API_KEYS = ['aB3x8Yp2qR5sW9tZ']\n",
    "ADMIN_USER_NAME = \"admin\"\n",
    "ADMIN_PASSWORD = \"admin\"\n",
    "\n",
    "\n",
    "class User(UserMixin):\n",
    "    def __init__(self, id):\n",
    "        self.id = id\n",
    "\n",
    "@login_manager.user_loader\n",
    "def load_user(user_id):\n",
    "    # This callback is used to reload the user object from the user ID stored in the session\n",
    "    return User(user_id)\n",
    "\n",
    "# Replace this with your actual user authentication logic\n",
    "def authenticate(username, password):\n",
    "    if username == ADMIN_USER_NAME and password == ADMIN_PASSWORD:\n",
    "        return User(1)\n",
    "    return None\n",
    "\n",
    "def verify_api_key(api_key):\n",
    "    return api_key in VALID_API_KEYS"
   ]
  },
  {
   "cell_type": "markdown",
   "metadata": {},
   "source": [
    "For Website API Calls"
   ]
  },
  {
   "cell_type": "code",
   "execution_count": null,
   "metadata": {},
   "outputs": [],
   "source": [
    "@app.route('/')\n",
    "def home():\n",
    "    return render_template('index.html')\n",
    "\n",
    "\n",
    "# Login endpoint\n",
    "@app.route('/login', methods=['POST'])\n",
    "def login():\n",
    "    username = request.form.get('username')\n",
    "    password = request.form.get('password')\n",
    "    user = authenticate(username, password)\n",
    "    if user:\n",
    "        login_user(user)\n",
    "        return render_template('admin-page.html')\n",
    "    else:\n",
    "        return 'Invalid credentials'\n",
    "\n",
    "@app.route('/logout')\n",
    "@login_required\n",
    "def logout():\n",
    "    logout_user()\n",
    "    return render_template('index.html')\n"
   ]
  },
  {
   "cell_type": "markdown",
   "metadata": {},
   "source": [
    "For Admin API Calls"
   ]
  },
  {
   "cell_type": "code",
   "execution_count": null,
   "metadata": {},
   "outputs": [],
   "source": [
    "@app.route('/train', methods=['POST'])\n",
    "@login_required\n",
    "def train():\n",
    "    data = request.json\n",
    "    train = data.get('train', '')\n",
    "\n",
    "    print(f\"train-> {train}\")\n",
    "    return {\"result\": f\"{train} has started Traning \"}\n",
    "\n",
    "\n",
    "\n",
    "\n",
    "@app.route('/urlpredict', methods=['POST'])\n",
    "@login_required\n",
    "def urlpredict():\n",
    "    \n",
    "    data = request.json\n",
    "    url = data.get('data', '')\n",
    "    result = 'Phishing'\n",
    "\n",
    "    url_result = predictionURLS([url])\n",
    "\n",
    "    if(url_result[9] == '0'):\n",
    "        result = 'Safe'\n",
    "\n",
    "    return {\"result\": f\"Current Url Result: {result}\"}\n",
    "\n",
    "\n",
    "\n",
    "@app.route('/emailpredict', methods=['POST'])\n",
    "@login_required\n",
    "def emailpredict():\n",
    "\n",
    "    data = request.json\n",
    "    email = data.get('data', '')\n",
    "    result = 'Phishing'\n",
    "    \n",
    "    email_result = predictionEmail(email)\n",
    "    \n",
    "    if(email_result[0] == 0):\n",
    "        result = 'Safe'\n",
    " \n",
    "    return {\"result\": f\"Email Result: {result}\"}"
   ]
  },
  {
   "cell_type": "markdown",
   "metadata": {},
   "source": [
    "For Extention API Calls"
   ]
  },
  {
   "cell_type": "code",
   "execution_count": null,
   "metadata": {},
   "outputs": [],
   "source": [
    "\n",
    "\n",
    "@app.route('/urlpredictExt', methods=['POST'])\n",
    "def urlpredictExt():\n",
    "\n",
    "    data = request.json\n",
    "    url = data.get('url', '')\n",
    "    api_key = data.get('key', '')\n",
    "    result = 'Phishing'\n",
    "\n",
    "    # Check if the API key is valid\n",
    "    if not verify_api_key(api_key):\n",
    "        return jsonify({\"result\": \"Invalid API key\"})\n",
    "    \n",
    "    url_result = predictionURLS([url])\n",
    "\n",
    "    if(url_result[9] == '0'):\n",
    "        result = 'Safe'\n",
    "\n",
    "    return {\"result\": f\"Current Url Result: {result}\"}\n",
    "\n",
    "@app.route('/emailpredictExt', methods=['POST'])\n",
    "def emailpredictExt():\n",
    "\n",
    "    \n",
    "    data = request.json\n",
    "    email = data.get('email', '')\n",
    "    api_key = data.get('key', '')\n",
    "    result = 'Phishing'\n",
    "    \n",
    "    # Check if the API key is valid\n",
    "    if not verify_api_key(api_key):\n",
    "        return jsonify({\"result\": \"Invalid API key\"})    \n",
    "\n",
    "    email_result = predictionEmail(email)\n",
    "    \n",
    "\n",
    "    if(email_result[0] == 0):\n",
    "        result = 'Safe'\n",
    "    # Render the result template with the prediction result\n",
    "    return {\"result\": f\"Email Result: {result}\"}\n",
    "\n"
   ]
  },
  {
   "cell_type": "code",
   "execution_count": 77,
   "metadata": {},
   "outputs": [],
   "source": [
    "if __name__ == '__main__':\n",
    "    port = int(os.environ.get('PORT', 5000))\n",
    "    app.run(host='0.0.0.0', port=port)"
   ]
  },
  {
   "cell_type": "markdown",
   "metadata": {},
   "source": [
    "Run this to convert .ipynb to .py for deployment only"
   ]
  },
  {
   "cell_type": "code",
   "execution_count": 78,
   "metadata": {},
   "outputs": [
    {
     "name": "stderr",
     "output_type": "stream",
     "text": [
      "[NbConvertApp] Converting notebook main.ipynb to script\n",
      "[NbConvertApp] Writing 5502 bytes to main.py\n"
     ]
    }
   ],
   "source": [
    "!jupyter nbconvert --to script main.ipynb\n"
   ]
  },
  {
   "cell_type": "code",
   "execution_count": null,
   "metadata": {},
   "outputs": [],
   "source": []
  }
 ],
 "metadata": {
  "kernelspec": {
   "display_name": ".env",
   "language": "python",
   "name": "python3"
  },
  "language_info": {
   "codemirror_mode": {
    "name": "ipython",
    "version": 3
   },
   "file_extension": ".py",
   "mimetype": "text/x-python",
   "name": "python",
   "nbconvert_exporter": "python",
   "pygments_lexer": "ipython3",
   "version": "3.11.5"
  }
 },
 "nbformat": 4,
 "nbformat_minor": 2
}
